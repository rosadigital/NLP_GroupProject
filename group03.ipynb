{
 "cells": [
  {
   "cell_type": "code",
   "execution_count": 7,
   "metadata": {},
   "outputs": [
    {
     "name": "stderr",
     "output_type": "stream",
     "text": [
      "[nltk_data] Downloading package stopwords to /Users/kazi/nltk_data...\n",
      "[nltk_data]   Package stopwords is already up-to-date!\n",
      "[nltk_data] Downloading package punkt to /Users/kazi/nltk_data...\n",
      "[nltk_data]   Package punkt is already up-to-date!\n"
     ]
    },
    {
     "data": {
      "text/plain": [
       "True"
      ]
     },
     "execution_count": 7,
     "metadata": {},
     "output_type": "execute_result"
    }
   ],
   "source": [
    "import pandas as pd\n",
    "import nltk\n",
    "from nltk.corpus import stopwords\n",
    "from nltk.tokenize import word_tokenize\n",
    "import string\n",
    "from sklearn.feature_extraction.text import CountVectorizer\n",
    "from sklearn.model_selection import train_test_split\n",
    "from sklearn.naive_bayes import MultinomialNB\n",
    "from sklearn.metrics import accuracy_score, classification_report\n",
    "import matplotlib.pyplot as plt\n",
    "\n",
    "# Download NLTK resources\n",
    "nltk.download('stopwords')\n",
    "nltk.download('punkt')\n"
   ]
  },
  {
   "cell_type": "code",
   "execution_count": 8,
   "metadata": {},
   "outputs": [
    {
     "name": "stdout",
     "output_type": "stream",
     "text": [
      "Preview of the combined dataset:\n",
      "                                             comment  label\n",
      "0  Huh, anyway check out this you[tube] channel: ...      1\n",
      "1  Hey guys check out my new channel and our firs...      1\n",
      "2             just for test I have to say murdev.com      1\n",
      "3   me shaking my sexy ass on my channel enjoy ^_^ ﻿      1\n",
      "4            watch?v=vtaRGgvGtWQ   Check this out .﻿      1\n"
     ]
    }
   ],
   "source": [
    "## Step 1: Load the Data into a Pandas DataFrame\n",
    "datasets = [\n",
    "    \"Youtube01-Psy.csv\",\n",
    "    \"Youtube02-KatyPerry.csv\",\n",
    "    \"Youtube03-LMFAO.csv\",\n",
    "    \"Youtube04-Eminem.csv\",\n",
    "    \"Youtube05-Shakira.csv\",\n",
    "]\n",
    "\n",
    "# Load all datasets into a single DataFrame\n",
    "data = pd.concat([pd.read_csv(file)[['CONTENT', 'CLASS']] for file in datasets], ignore_index=True)\n",
    "data.columns = ['comment', 'label']  # Rename columns for consistency\n",
    "\n",
    "# Display data preview\n",
    "print(\"Preview of the combined dataset:\")\n",
    "print(data.head())"
   ]
  },
  {
   "cell_type": "code",
   "execution_count": 9,
   "metadata": {},
   "outputs": [
    {
     "name": "stdout",
     "output_type": "stream",
     "text": [
      "Dataset Info:\n",
      "<class 'pandas.core.frame.DataFrame'>\n",
      "RangeIndex: 1956 entries, 0 to 1955\n",
      "Data columns (total 2 columns):\n",
      " #   Column   Non-Null Count  Dtype \n",
      "---  ------   --------------  ----- \n",
      " 0   comment  1956 non-null   object\n",
      " 1   label    1956 non-null   int64 \n",
      "dtypes: int64(1), object(1)\n",
      "memory usage: 30.7+ KB\n",
      "None\n",
      "--------------------------------------------------\n",
      "Distribution of Spam vs Non-Spam:\n",
      "label\n",
      "1    1005\n",
      "0     951\n",
      "Name: count, dtype: int64\n",
      "--------------------------------------------------\n"
     ]
    },
    {
     "data": {
      "image/png": "[encoded data removed]",
      "text/plain": [
       "<Figure size 640x480 with 1 Axes>"
      ]
     },
     "metadata": {},
     "output_type": "display_data"
    }
   ],
   "source": [
    "## Step 2: Basic Data Exploration\n",
    "# Check for null values\n",
    "print(\"Dataset Info:\")\n",
    "print(data.info())\n",
    "\n",
    "# Distribution of labels\n",
    "print(\"-\"*50)\n",
    "print(\"Distribution of Spam vs Non-Spam:\")\n",
    "print(data['label'].value_counts())\n",
    "\n",
    "\n",
    "# Plot label distribution\n",
    "print(\"-\"*50)\n",
    "data['label'].value_counts().plot(kind='bar')\n",
    "plt.title('Spam vs. Non-Spam Distribution')\n",
    "plt.xlabel('Label')\n",
    "plt.ylabel('Frequency')\n",
    "plt.show()"
   ]
  },
  {
   "cell_type": "markdown",
   "metadata": {},
   "source": [
    "## Overview of data exploration\n",
    "- **Number of Entries**: 1,956 rows\n",
    "- **Columns**:\n",
    "  1. **`comment` (object)**: Original comments from the YouTube datasets.\n",
    "  2. **`label` (int64)**: Binary classification labels (`1` for spam, `0` for non-spam).\n",
    "  3. **`processed_text` (object)**: Preprocessed comments ready for vectorization.\n",
    "- **Memory Usage**: Approximately 46 KB.\n",
    "\n",
    "- No missing values in any column.\n",
    "- All columns have 1,956 non-null entries.\n",
    "\n",
    "The dataset contains a total of 1,956 labeled entries split into two categories:\n",
    "- **1 (Spam)**: 1,005 comments\n",
    "- **0 (Non-Spam)**: 951 comments\n",
    "\n",
    "## Analysis\n",
    "- The dataset is relatively balanced between spam and non-spam comments, with a slight majority of spam comments.\n",
    "- This balance should ensure fair training and evaluation without significant bias toward either category.\n"
   ]
  },
  {
   "cell_type": "code",
   "execution_count": 10,
   "metadata": {},
   "outputs": [
    {
     "name": "stdout",
     "output_type": "stream",
     "text": [
      "Processed Text Preview:\n"
     ]
    },
    {
     "data": {
      "text/html": [
       "<div>\n",
       "<style scoped>\n",
       "    .dataframe tbody tr th:only-of-type {\n",
       "        vertical-align: middle;\n",
       "    }\n",
       "\n",
       "    .dataframe tbody tr th {\n",
       "        vertical-align: top;\n",
       "    }\n",
       "\n",
       "    .dataframe thead th {\n",
       "        text-align: right;\n",
       "    }\n",
       "</style>\n",
       "<table border=\"1\" class=\"dataframe\">\n",
       "  <thead>\n",
       "    <tr style=\"text-align: right;\">\n",
       "      <th></th>\n",
       "      <th>comment</th>\n",
       "      <th>processed_text</th>\n",
       "    </tr>\n",
       "  </thead>\n",
       "  <tbody>\n",
       "    <tr>\n",
       "      <th>0</th>\n",
       "      <td>Huh, anyway check out this you[tube] channel: ...</td>\n",
       "      <td>huh anyway check youtube channel kobyoshi02</td>\n",
       "    </tr>\n",
       "    <tr>\n",
       "      <th>1</th>\n",
       "      <td>Hey guys check out my new channel and our firs...</td>\n",
       "      <td>hey guys check new channel first vid us monkey...</td>\n",
       "    </tr>\n",
       "    <tr>\n",
       "      <th>2</th>\n",
       "      <td>just for test I have to say murdev.com</td>\n",
       "      <td>test say murdevcom</td>\n",
       "    </tr>\n",
       "    <tr>\n",
       "      <th>3</th>\n",
       "      <td>me shaking my sexy ass on my channel enjoy ^_^ ﻿</td>\n",
       "      <td>shaking sexy ass channel enjoy ﻿</td>\n",
       "    </tr>\n",
       "    <tr>\n",
       "      <th>4</th>\n",
       "      <td>watch?v=vtaRGgvGtWQ   Check this out .﻿</td>\n",
       "      <td>watchvvtarggvgtwq check ﻿</td>\n",
       "    </tr>\n",
       "  </tbody>\n",
       "</table>\n",
       "</div>"
      ],
      "text/plain": [
       "                                             comment  \\\n",
       "0  Huh, anyway check out this you[tube] channel: ...   \n",
       "1  Hey guys check out my new channel and our firs...   \n",
       "2             just for test I have to say murdev.com   \n",
       "3   me shaking my sexy ass on my channel enjoy ^_^ ﻿   \n",
       "4            watch?v=vtaRGgvGtWQ   Check this out .﻿   \n",
       "\n",
       "                                      processed_text  \n",
       "0        huh anyway check youtube channel kobyoshi02  \n",
       "1  hey guys check new channel first vid us monkey...  \n",
       "2                                 test say murdevcom  \n",
       "3                   shaking sexy ass channel enjoy ﻿  \n",
       "4                          watchvvtarggvgtwq check ﻿  "
      ]
     },
     "execution_count": 10,
     "metadata": {},
     "output_type": "execute_result"
    }
   ],
   "source": [
    "## Step 3: Prepare Data for Model Building\n",
    "# Define preprocessing function\n",
    "stop_words = set(stopwords.words('english'))\n",
    "\n",
    "def preprocess_text(text):\n",
    "    # Lowercase\n",
    "    text = text.lower()\n",
    "    # Remove punctuation\n",
    "    text = text.translate(str.maketrans('', '', string.punctuation))\n",
    "    # Tokenize\n",
    "    tokens = word_tokenize(text)\n",
    "    # Remove stopwords\n",
    "    tokens = [word for word in tokens if word not in stop_words]\n",
    "    return ' '.join(tokens)\n",
    "\n",
    "# Apply preprocessing\n",
    "data['processed_text'] = data['comment'].apply(preprocess_text)\n",
    "\n",
    "# Display processed data preview\n",
    "print(\"Processed Text Preview:\")\n",
    "data[['comment', 'processed_text']].head()"
   ]
  },
  {
   "cell_type": "code",
   "execution_count": 11,
   "metadata": {},
   "outputs": [
    {
     "name": "stdout",
     "output_type": "stream",
     "text": [
      "\n",
      "Feature Matrix Shape:\n",
      "(1956, 4180)\n",
      "\n",
      "Number of Features:\n",
      "4180\n",
      "\n",
      "Sample Features:\n",
      "['00' '002' '0058' '025' '04' '0687119038' '10' '100' '1000' '1000000']\n"
     ]
    }
   ],
   "source": [
    "## Step 4: Feature Extraction and Highlights\n",
    "\n",
    "# Initialize CountVectorizer\n",
    "vectorizer = CountVectorizer()\n",
    "\n",
    "# Transform the processed text into a feature matrix\n",
    "X = vectorizer.fit_transform(data['processed_text'])\n",
    "y = data['label']\n",
    "\n",
    "# Display feature matrix shape and highlights\n",
    "print(\"\\nFeature Matrix Shape:\")\n",
    "print(X.shape)\n",
    "\n",
    "print(\"\\nNumber of Features:\")\n",
    "print(len(vectorizer.get_feature_names_out()))\n",
    "\n",
    "print(\"\\nSample Features:\")\n",
    "print(vectorizer.get_feature_names_out()[:10])  # Display first 10 features\n"
   ]
  },
  {
   "cell_type": "markdown",
   "metadata": {},
   "source": [
    "## Output Summary\n",
    "1. **Feature Matrix Shape**:\n",
    "   - `(1956, 4180)`:\n",
    "     - **1956**: Number of rows (one for each comment in the dataset).\n",
    "     - **4180**: Number of unique tokens (features) identified by `CountVectorizer` across all comments.\n",
    "\n",
    "2. **Number of Features**:\n",
    "   - A total of **4,180 unique tokens** were extracted from the preprocessed text. This represents the vocabulary size of the `CountVectorizer`.\n",
    "\n",
    "3. **Sample Features**:\n",
    "   - Examples of the first 10 tokens in the vocabulary:\n",
    "     - `'00'`: Likely a numerical token.\n",
    "     - `'002'`, `'0058'`: Numeric-like tokens, possibly part of video timestamps or product codes.\n",
    "     - `'10'`, `'100'`, `'1000'`: Common numeric values in comments (e.g., likes, views, or votes).\n",
    "     - `'1000000'`: Indicative of numbers often used in contexts like \"1 million views.\"\n",
    "\n",
    "---\n",
    "\n",
    "## Analysis of the Results\n",
    "1. **Token Relevance**:\n",
    "   - The `CountVectorizer` includes numbers and special tokens by default, treating them as valid features."
   ]
  },
  {
   "cell_type": "code",
   "execution_count": 12,
   "metadata": {},
   "outputs": [
    {
     "name": "stdout",
     "output_type": "stream",
     "text": [
      "\n",
      "TF-IDF Matrix Shape:\n",
      "(1956, 4180)\n",
      "\n",
      "Sample TF-IDF Scores:\n",
      "[[0. 0. 0. ... 0. 0. 0.]\n",
      " [0. 0. 0. ... 0. 0. 0.]\n",
      " [0. 0. 0. ... 0. 0. 0.]\n",
      " [0. 0. 0. ... 0. 0. 0.]\n",
      " [0. 0. 0. ... 0. 0. 0.]]\n"
     ]
    }
   ],
   "source": [
    "# Step 5\n",
    "\n",
    "from sklearn.feature_extraction.text import TfidfTransformer\n",
    "\n",
    "# Initialize TfidfTransformer\n",
    "tfidf_transformer = TfidfTransformer()\n",
    "\n",
    "# Fit and transform the CountVectorizer matrix\n",
    "X_tfidf = tfidf_transformer.fit_transform(X)\n",
    "\n",
    "# Display highlights of the transformed data\n",
    "print(\"\\nTF-IDF Matrix Shape:\")\n",
    "print(X_tfidf.shape)\n",
    "\n",
    "print(\"\\nSample TF-IDF Scores:\")\n",
    "print(X_tfidf.toarray()[:5])  # Display first 5 rows\n",
    "\n"
   ]
  },
  {
   "cell_type": "markdown",
   "metadata": {},
   "source": [
    "## Step 5 - Downscale the Transformed Data using TF-IDF\n",
    "\n",
    "\n",
    "We applied the TfidfTransformer to the feature matrix obtained from the CountVectorizer to scale the word frequencies. TF-IDF assigns importance to words based on how frequently they appear in a document relative to their appearance across all documents.\n",
    "\n",
    "The shape of the TF-IDF matrix matches the original feature matrix (X), meaning no features were dropped. Viewing the TF-IDF values shows that less frequent but important words have higher scores, while common words (e.g., \"the\", \"and\") are downweighted. This ensures that our model focuses on the more meaningful terms.\n",
    "\n",
    "Therefore, TF-IDF normalization helps reduce the impact of common terms and improves the feature quality for our classifier.\n"
   ]
  },
  {
   "cell_type": "code",
   "execution_count": 13,
   "metadata": {},
   "outputs": [
    {
     "name": "stdout",
     "output_type": "stream",
     "text": [
      "\n",
      "Preview of Shuffled Data:\n",
      "                                             comment  label  \\\n",
      "0                                Charlie from LOST?﻿      0   \n",
      "1                        BEST SONG EVER X3333333333﻿      0   \n",
      "2                     Aslamu Lykum... From Pakistan﻿      1   \n",
      "3  I absolutely adore watching football plus I’ve...      1   \n",
      "4  I really love this video.. http://www.bubblews...      1   \n",
      "\n",
      "                                      processed_text  \n",
      "0                                      charlie lost﻿  \n",
      "1                        best song ever x3333333333﻿  \n",
      "2                             aslamu lykum pakistan﻿  \n",
      "3  absolutely adore watching football plus ’ star...  \n",
      "4  really love video httpwwwbubblewscomaccount389...  \n"
     ]
    }
   ],
   "source": [
    "## Step 6 \n",
    "# Shuffle the dataset\n",
    "shuffled_data = data.sample(frac=1, random_state=42).reset_index(drop=True)\n",
    "\n",
    "# Display a preview of the shuffled dataset\n",
    "print(\"\\nPreview of Shuffled Data:\")\n",
    "print(shuffled_data.head())\n"
   ]
  },
  {
   "cell_type": "markdown",
   "metadata": {},
   "source": [
    "## Step 6: Shuffle the Dataset Using pandas.sample\n",
    "\n",
    "We used pandas.sample with frac=1 to shuffle the dataset randomly. A random seed (random_state=42) was set to ensure reproducibility of the shuffled order.\n",
    "\n",
    "Preview of Shuffled Data: The dataset rows have been reordered randomly, which prevents any inherent ordering from biasing the training and testing splits. Randomization ensures the data is well distributed across the training and testing sets, avoiding overfitting or underfitting caused by any patterns in the original order.\n",
    "\n",
    "\n",
    "Shuffling is a critical preprocessing step to avoid bias and ensure the dataset is prepared for robust training and evaluation.\n"
   ]
  },
  {
   "cell_type": "code",
   "execution_count": 14,
   "metadata": {},
   "outputs": [
    {
     "name": "stdout",
     "output_type": "stream",
     "text": [
      "\n",
      "Training Set Size:\n",
      "(1467, 4180) 1467\n",
      "\n",
      "Testing Set Size:\n",
      "(489, 4180) 489\n"
     ]
    }
   ],
   "source": [
    "# Step 7\n",
    "# Separate features and labels\n",
    "X = X_tfidf\n",
    "y = shuffled_data['label']\n",
    "\n",
    "# Calculate the split index\n",
    "split_index = int(0.75 * len(y))\n",
    "\n",
    "# Split the dataset\n",
    "X_train, X_test = X[:split_index], X[split_index:]\n",
    "y_train, y_test = y[:split_index], y[split_index:]\n",
    "\n",
    "# Display split details\n",
    "print(\"\\nTraining Set Size:\")\n",
    "print(X_train.shape, len(y_train))\n",
    "\n",
    "print(\"\\nTesting Set Size:\")\n",
    "print(X_test.shape, len(y_test))\n"
   ]
  },
  {
   "cell_type": "markdown",
   "metadata": {},
   "source": [
    "## Step 7: Split the Dataset into Training and Testing Sets\n",
    "\n",
    "We manually split the shuffled dataset into 75% training and 25% testing sets. The split ensures the training set has enough data to learn effectively, while the testing set is sufficiently large to evaluate the model’s performance.\n",
    "\n",
    "The training set contains approximately 75% of the data, with features (X_train) and corresponding labels (y_train).\n",
    "\n",
    "The testing set contains the remaining 25% of the data, used exclusively for evaluation.\n",
    "\n",
    "By splitting the data correctly, we separate the training and testing processes. This ensures that our model is evaluated on unseen data, providing an unbiased measure of performance."
   ]
  }
 ],
 "metadata": {
  "kernelspec": {
   "display_name": "base",
   "language": "python",
   "name": "python3"
  },
  "language_info": {
   "codemirror_mode": {
    "name": "ipython",
    "version": 3
   },
   "file_extension": ".py",
   "mimetype": "text/x-python",
   "name": "python",
   "nbconvert_exporter": "python",
   "pygments_lexer": "ipython3",
   "version": "3.11.5"
  }
 },
 "nbformat": 4,
 "nbformat_minor": 2
}
